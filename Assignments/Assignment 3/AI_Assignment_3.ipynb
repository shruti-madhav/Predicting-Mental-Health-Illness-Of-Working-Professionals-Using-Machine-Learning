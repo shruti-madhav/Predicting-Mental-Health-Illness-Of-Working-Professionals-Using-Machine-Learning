{
 "cells": [
  {
   "cell_type": "code",
   "execution_count": 2,
   "metadata": {},
   "outputs": [
    {
     "name": "stdout",
     "output_type": "stream",
     "text": [
      "WARNING:tensorflow:From c:\\Users\\shrut\\AppData\\Local\\Programs\\Python\\Python310\\lib\\site-packages\\keras\\src\\losses.py:2976: The name tf.losses.sparse_softmax_cross_entropy is deprecated. Please use tf.compat.v1.losses.sparse_softmax_cross_entropy instead.\n",
      "\n"
     ]
    }
   ],
   "source": [
    "# imports\n",
    "import pandas as pd\n",
    "import seaborn as sns\n",
    "import tensorflow as tf\n",
    "import matplotlib.pyplot as plt\n",
    "from tensorflow.keras.layers import Dense\n",
    "from tensorflow.keras.models import Sequential\n",
    "from sklearn.model_selection import train_test_split\n",
    "from sklearn.preprocessing import LabelEncoder, OneHotEncoder"
   ]
  },
  {
   "cell_type": "code",
   "execution_count": 13,
   "metadata": {},
   "outputs": [
    {
     "data": {
      "text/html": [
       "<div>\n",
       "<style scoped>\n",
       "    .dataframe tbody tr th:only-of-type {\n",
       "        vertical-align: middle;\n",
       "    }\n",
       "\n",
       "    .dataframe tbody tr th {\n",
       "        vertical-align: top;\n",
       "    }\n",
       "\n",
       "    .dataframe thead th {\n",
       "        text-align: right;\n",
       "    }\n",
       "</style>\n",
       "<table border=\"1\" class=\"dataframe\">\n",
       "  <thead>\n",
       "    <tr style=\"text-align: right;\">\n",
       "      <th></th>\n",
       "      <th>Age</th>\n",
       "      <th>Sex</th>\n",
       "      <th>BP</th>\n",
       "      <th>Cholesterol</th>\n",
       "      <th>Na_to_K</th>\n",
       "      <th>Drug</th>\n",
       "    </tr>\n",
       "  </thead>\n",
       "  <tbody>\n",
       "    <tr>\n",
       "      <th>0</th>\n",
       "      <td>23</td>\n",
       "      <td>F</td>\n",
       "      <td>HIGH</td>\n",
       "      <td>HIGH</td>\n",
       "      <td>25.355</td>\n",
       "      <td>DrugY</td>\n",
       "    </tr>\n",
       "    <tr>\n",
       "      <th>1</th>\n",
       "      <td>47</td>\n",
       "      <td>M</td>\n",
       "      <td>LOW</td>\n",
       "      <td>HIGH</td>\n",
       "      <td>13.093</td>\n",
       "      <td>drugC</td>\n",
       "    </tr>\n",
       "    <tr>\n",
       "      <th>2</th>\n",
       "      <td>47</td>\n",
       "      <td>M</td>\n",
       "      <td>LOW</td>\n",
       "      <td>HIGH</td>\n",
       "      <td>10.114</td>\n",
       "      <td>drugC</td>\n",
       "    </tr>\n",
       "    <tr>\n",
       "      <th>3</th>\n",
       "      <td>28</td>\n",
       "      <td>F</td>\n",
       "      <td>NORMAL</td>\n",
       "      <td>HIGH</td>\n",
       "      <td>7.798</td>\n",
       "      <td>drugX</td>\n",
       "    </tr>\n",
       "    <tr>\n",
       "      <th>4</th>\n",
       "      <td>61</td>\n",
       "      <td>F</td>\n",
       "      <td>LOW</td>\n",
       "      <td>HIGH</td>\n",
       "      <td>18.043</td>\n",
       "      <td>DrugY</td>\n",
       "    </tr>\n",
       "  </tbody>\n",
       "</table>\n",
       "</div>"
      ],
      "text/plain": [
       "   Age Sex      BP Cholesterol  Na_to_K   Drug\n",
       "0   23   F    HIGH        HIGH   25.355  DrugY\n",
       "1   47   M     LOW        HIGH   13.093  drugC\n",
       "2   47   M     LOW        HIGH   10.114  drugC\n",
       "3   28   F  NORMAL        HIGH    7.798  drugX\n",
       "4   61   F     LOW        HIGH   18.043  DrugY"
      ]
     },
     "execution_count": 13,
     "metadata": {},
     "output_type": "execute_result"
    }
   ],
   "source": [
    "data = pd.read_csv(\"drug200.csv\")\n",
    "data.head()"
   ]
  },
  {
   "cell_type": "code",
   "execution_count": 14,
   "metadata": {},
   "outputs": [
    {
     "data": {
      "text/plain": [
       "Age            0\n",
       "Sex            0\n",
       "BP             0\n",
       "Cholesterol    0\n",
       "Na_to_K        0\n",
       "Drug           0\n",
       "dtype: int64"
      ]
     },
     "execution_count": 14,
     "metadata": {},
     "output_type": "execute_result"
    }
   ],
   "source": [
    "data.isnull().sum()"
   ]
  },
  {
   "cell_type": "code",
   "execution_count": 5,
   "metadata": {},
   "outputs": [
    {
     "data": {
      "text/plain": [
       "array(['DrugY', 'drugC', 'drugX', 'drugA', 'drugB'], dtype=object)"
      ]
     },
     "execution_count": 5,
     "metadata": {},
     "output_type": "execute_result"
    }
   ],
   "source": [
    "data['Drug'].unique()"
   ]
  },
  {
   "cell_type": "code",
   "execution_count": 15,
   "metadata": {},
   "outputs": [
    {
     "name": "stdout",
     "output_type": "stream",
     "text": [
      "     Age  Sex  BP  Cholesterol  Na_to_K  Drug\n",
      "0     23    0   0            0   25.355     0\n",
      "1     47    1   1            0   13.093     3\n",
      "2     47    1   1            0   10.114     3\n",
      "3     28    0   2            0    7.798     4\n",
      "4     61    0   1            0   18.043     0\n",
      "..   ...  ...  ..          ...      ...   ...\n",
      "195   56    0   1            0   11.567     3\n",
      "196   16    1   1            0   12.006     3\n",
      "197   52    1   2            0    9.894     4\n",
      "198   23    1   2            1   14.020     4\n",
      "199   40    0   1            1   11.349     4\n",
      "\n",
      "[200 rows x 6 columns]\n"
     ]
    }
   ],
   "source": [
    "# Create DataFrame\n",
    "df = pd.DataFrame(data)\n",
    "\n",
    "# Label encode 'Sex', 'BP', 'Cholesterol'\n",
    "label_encoder = LabelEncoder()\n",
    "df['Sex'] = label_encoder.fit_transform(df['Sex'])\n",
    "df['BP'] = label_encoder.fit_transform(df['BP'])\n",
    "df['Cholesterol'] = label_encoder.fit_transform(df['Cholesterol'])\n",
    "\n",
    "# Label encode 'Drug'\n",
    "df['Drug'] = label_encoder.fit_transform(df['Drug'])\n",
    "\n",
    "print(df)\n"
   ]
  },
  {
   "cell_type": "code",
   "execution_count": 7,
   "metadata": {},
   "outputs": [
    {
     "name": "stdout",
     "output_type": "stream",
     "text": [
      "     Age    Sex     BP Cholesterol  Na_to_K   Drug\n",
      "0     23  DrugY  DrugY       DrugY   25.355  DrugY\n",
      "1     47  drugA  drugA       DrugY   13.093  drugC\n",
      "2     47  drugA  drugA       DrugY   10.114  drugC\n",
      "3     28  DrugY  drugB       DrugY    7.798  drugX\n",
      "4     61  DrugY  drugA       DrugY   18.043  DrugY\n",
      "..   ...    ...    ...         ...      ...    ...\n",
      "195   56  DrugY  drugA       DrugY   11.567  drugC\n",
      "196   16  drugA  drugA       DrugY   12.006  drugC\n",
      "197   52  drugA  drugB       DrugY    9.894  drugX\n",
      "198   23  drugA  drugB       drugA   14.020  drugX\n",
      "199   40  DrugY  drugA       drugA   11.349  drugX\n",
      "\n",
      "[200 rows x 6 columns]\n"
     ]
    }
   ],
   "source": [
    "# Decoding back to original values\n",
    "df['Sex'] = label_encoder.inverse_transform(df['Sex'])\n",
    "df['BP'] = label_encoder.inverse_transform(df['BP'])\n",
    "df['Cholesterol'] = label_encoder.inverse_transform(df['Cholesterol'])\n",
    "df['Drug'] = label_encoder.inverse_transform(df['Drug'])\n",
    "\n",
    "print(df)"
   ]
  },
  {
   "cell_type": "code",
   "execution_count": 17,
   "metadata": {},
   "outputs": [
    {
     "name": "stdout",
     "output_type": "stream",
     "text": [
      "          Age  Sex  BP  Cholesterol   Na_to_K  Drug\n",
      "0    0.135593    0   0            0  0.596848     0\n",
      "1    0.542373    1   1            0  0.213397     3\n",
      "2    0.542373    1   1            0  0.120239     3\n",
      "3    0.220339    0   2            0  0.047814     4\n",
      "4    0.779661    0   1            0  0.368191     0\n",
      "..        ...  ...  ..          ...       ...   ...\n",
      "195  0.694915    0   1            0  0.165676     3\n",
      "196  0.016949    1   1            0  0.179405     3\n",
      "197  0.627119    1   2            0  0.113359     4\n",
      "198  0.135593    1   2            1  0.242385     4\n",
      "199  0.423729    0   1            1  0.158859     4\n",
      "\n",
      "[200 rows x 6 columns]\n"
     ]
    }
   ],
   "source": [
    "from sklearn.preprocessing import MinMaxScaler\n",
    "\n",
    "# Initialize the scaler\n",
    "scaler = MinMaxScaler()\n",
    "\n",
    "# Scale the numerical features ('Age' and 'Na_to_K')\n",
    "df[['Age', 'Na_to_K']] = scaler.fit_transform(df[['Age', 'Na_to_K']])\n",
    "\n",
    "# Print the scaled DataFrame\n",
    "print(df)"
   ]
  },
  {
   "cell_type": "markdown",
   "metadata": {},
   "source": [
    "2: Build the ANN model with (input layer, min 3 hidden layers & output layer)"
   ]
  },
  {
   "cell_type": "code",
   "execution_count": 18,
   "metadata": {},
   "outputs": [],
   "source": [
    "x=data.drop('Drug', axis=1)\n",
    "y=data['Drug']"
   ]
  },
  {
   "cell_type": "code",
   "execution_count": 19,
   "metadata": {},
   "outputs": [],
   "source": [
    "# Example data (replace this with your data)\n",
    "x_train,x_test,y_train,y_test=train_test_split(x,y,test_size=0.3, random_state=0)\n"
   ]
  },
  {
   "cell_type": "code",
   "execution_count": 20,
   "metadata": {},
   "outputs": [
    {
     "data": {
      "text/plain": [
       "Age              int64\n",
       "Sex              int32\n",
       "BP               int32\n",
       "Cholesterol      int32\n",
       "Na_to_K        float64\n",
       "dtype: object"
      ]
     },
     "execution_count": 20,
     "metadata": {},
     "output_type": "execute_result"
    }
   ],
   "source": [
    "x_train.dtypes"
   ]
  },
  {
   "cell_type": "code",
   "execution_count": 21,
   "metadata": {},
   "outputs": [
    {
     "name": "stdout",
     "output_type": "stream",
     "text": [
      "x_train shape: (140, 5) dtype: Age              int64\n",
      "Sex              int32\n",
      "BP               int32\n",
      "Cholesterol      int32\n",
      "Na_to_K        float64\n",
      "dtype: object\n",
      "y_train shape: (140,) dtype: int32\n",
      "x_test shape: (60, 5) dtype: Age              int64\n",
      "Sex              int32\n",
      "BP               int32\n",
      "Cholesterol      int32\n",
      "Na_to_K        float64\n",
      "dtype: object\n",
      "y_test shape: (60,) dtype: int32\n"
     ]
    }
   ],
   "source": [
    "print(\"x_train shape:\", x_train.shape, \"dtype:\", x_train.dtypes)\n",
    "print(\"y_train shape:\", y_train.shape, \"dtype:\", y_train.dtypes)\n",
    "print(\"x_test shape:\", x_test.shape, \"dtype:\", x_test.dtypes)\n",
    "print(\"y_test shape:\", y_test.shape, \"dtype:\", y_test.dtypes)"
   ]
  },
  {
   "cell_type": "code",
   "execution_count": 22,
   "metadata": {},
   "outputs": [
    {
     "name": "stdout",
     "output_type": "stream",
     "text": [
      "WARNING:tensorflow:From c:\\Users\\shrut\\AppData\\Local\\Programs\\Python\\Python310\\lib\\site-packages\\keras\\src\\backend.py:873: The name tf.get_default_graph is deprecated. Please use tf.compat.v1.get_default_graph instead.\n",
      "\n",
      "WARNING:tensorflow:From c:\\Users\\shrut\\AppData\\Local\\Programs\\Python\\Python310\\lib\\site-packages\\keras\\src\\optimizers\\__init__.py:309: The name tf.train.Optimizer is deprecated. Please use tf.compat.v1.train.Optimizer instead.\n",
      "\n",
      "Epoch 1/10\n",
      "WARNING:tensorflow:From c:\\Users\\shrut\\AppData\\Local\\Programs\\Python\\Python310\\lib\\site-packages\\keras\\src\\utils\\tf_utils.py:492: The name tf.ragged.RaggedTensorValue is deprecated. Please use tf.compat.v1.ragged.RaggedTensorValue instead.\n",
      "\n",
      "WARNING:tensorflow:From c:\\Users\\shrut\\AppData\\Local\\Programs\\Python\\Python310\\lib\\site-packages\\keras\\src\\engine\\base_layer_utils.py:384: The name tf.executing_eagerly_outside_functions is deprecated. Please use tf.compat.v1.executing_eagerly_outside_functions instead.\n",
      "\n",
      "5/5 [==============================] - 3s 107ms/step - loss: -2.2475 - accuracy: 0.1286 - val_loss: -3.9649 - val_accuracy: 0.0833\n",
      "Epoch 2/10\n",
      "5/5 [==============================] - 0s 22ms/step - loss: -6.9153 - accuracy: 0.1286 - val_loss: -7.2498 - val_accuracy: 0.0833\n",
      "Epoch 3/10\n",
      "5/5 [==============================] - 0s 21ms/step - loss: -11.6239 - accuracy: 0.1286 - val_loss: -11.6937 - val_accuracy: 0.0833\n",
      "Epoch 4/10\n",
      "5/5 [==============================] - 0s 20ms/step - loss: -18.4811 - accuracy: 0.1286 - val_loss: -17.7804 - val_accuracy: 0.0833\n",
      "Epoch 5/10\n",
      "5/5 [==============================] - 0s 20ms/step - loss: -27.6636 - accuracy: 0.1286 - val_loss: -26.2674 - val_accuracy: 0.0833\n",
      "Epoch 6/10\n",
      "5/5 [==============================] - 0s 20ms/step - loss: -39.8072 - accuracy: 0.1286 - val_loss: -38.0724 - val_accuracy: 0.0833\n",
      "Epoch 7/10\n",
      "5/5 [==============================] - 0s 30ms/step - loss: -58.4144 - accuracy: 0.1286 - val_loss: -53.9540 - val_accuracy: 0.0833\n",
      "Epoch 8/10\n",
      "5/5 [==============================] - 0s 20ms/step - loss: -83.2895 - accuracy: 0.1286 - val_loss: -76.7212 - val_accuracy: 0.0833\n",
      "Epoch 9/10\n",
      "5/5 [==============================] - 0s 20ms/step - loss: -116.3236 - accuracy: 0.1286 - val_loss: -108.0124 - val_accuracy: 0.0833\n",
      "Epoch 10/10\n",
      "5/5 [==============================] - 0s 19ms/step - loss: -162.3669 - accuracy: 0.1286 - val_loss: -149.1873 - val_accuracy: 0.0833\n"
     ]
    },
    {
     "data": {
      "text/plain": [
       "<keras.src.callbacks.History at 0x21aad5fe0b0>"
      ]
     },
     "execution_count": 22,
     "metadata": {},
     "output_type": "execute_result"
    }
   ],
   "source": [
    "# Building the model\n",
    "model = Sequential([\n",
    "    Dense(64, input_shape=(x_train.shape[1],), activation='relu'),  # Input layer\n",
    "    Dense(128, activation='relu'),  # Hidden layer 1\n",
    "    Dense(64, activation='relu'),   # Hidden layer 2\n",
    "    Dense(32, activation='relu'),   # Hidden layer 3\n",
    "    Dense(1, activation='sigmoid')  # Output layer\n",
    "])\n",
    "\n",
    "# Compiling the model\n",
    "model.compile(optimizer='adam', loss='binary_crossentropy', metrics=['accuracy'])\n",
    "\n",
    "# Training the model\n",
    "model.fit(x_train, y_train, epochs=10, batch_size=32, validation_data=(x_test, y_test))\n",
    "\n"
   ]
  },
  {
   "cell_type": "code",
   "execution_count": 24,
   "metadata": {},
   "outputs": [
    {
     "name": "stdout",
     "output_type": "stream",
     "text": [
      "5/5 [==============================] - 0s 4ms/step - loss: -198.6178 - accuracy: 0.1286\n",
      "Training Loss: -198.61778259277344, Training Accuracy: 0.12857143580913544\n",
      "2/2 [==============================] - 0s 9ms/step - loss: -149.1873 - accuracy: 0.0833\n",
      "Test Loss: -149.18727111816406, Test Accuracy: 0.0833333358168602\n"
     ]
    }
   ],
   "source": [
    "# Evaluate the model on the training data\n",
    "train_loss, train_accuracy = model.evaluate(x_train, y_train)\n",
    "print(f\"Training Loss: {train_loss}, Training Accuracy: {train_accuracy}\")\n",
    "\n",
    "# Evaluating the model\n",
    "loss, accuracy = model.evaluate(x_test, y_test)\n",
    "print(f\"Test Loss: {loss}, Test Accuracy: {accuracy}\")"
   ]
  },
  {
   "cell_type": "markdown",
   "metadata": {},
   "source": [
    "3: Test the model with random data"
   ]
  },
  {
   "cell_type": "code",
   "execution_count": 47,
   "metadata": {},
   "outputs": [
    {
     "name": "stdout",
     "output_type": "stream",
     "text": [
      "2/2 [==============================] - 0s 6ms/step\n",
      "Predictions:\n",
      "Sample 1: Predicted Class - drugA\n",
      "Sample 2: Predicted Class - drugA\n",
      "Sample 3: Predicted Class - drugA\n",
      "Sample 4: Predicted Class - drugA\n",
      "Sample 5: Predicted Class - drugA\n",
      "Sample 6: Predicted Class - drugA\n",
      "Sample 7: Predicted Class - drugA\n",
      "Sample 8: Predicted Class - drugA\n",
      "Sample 9: Predicted Class - drugA\n",
      "Sample 10: Predicted Class - drugA\n",
      "Sample 11: Predicted Class - drugA\n",
      "Sample 12: Predicted Class - drugA\n",
      "Sample 13: Predicted Class - drugA\n",
      "Sample 14: Predicted Class - drugA\n",
      "Sample 15: Predicted Class - drugA\n",
      "Sample 16: Predicted Class - drugA\n",
      "Sample 17: Predicted Class - drugA\n",
      "Sample 18: Predicted Class - drugA\n",
      "Sample 19: Predicted Class - drugA\n",
      "Sample 20: Predicted Class - drugA\n",
      "Sample 21: Predicted Class - drugA\n",
      "Sample 22: Predicted Class - drugA\n",
      "Sample 23: Predicted Class - drugA\n",
      "Sample 24: Predicted Class - drugA\n",
      "Sample 25: Predicted Class - drugA\n",
      "Sample 26: Predicted Class - drugA\n",
      "Sample 27: Predicted Class - drugA\n",
      "Sample 28: Predicted Class - drugA\n",
      "Sample 29: Predicted Class - drugA\n",
      "Sample 30: Predicted Class - drugA\n",
      "Sample 31: Predicted Class - drugA\n",
      "Sample 32: Predicted Class - drugA\n",
      "Sample 33: Predicted Class - drugA\n",
      "Sample 34: Predicted Class - drugA\n",
      "Sample 35: Predicted Class - drugA\n",
      "Sample 36: Predicted Class - drugA\n",
      "Sample 37: Predicted Class - drugA\n",
      "Sample 38: Predicted Class - drugA\n",
      "Sample 39: Predicted Class - drugA\n",
      "Sample 40: Predicted Class - drugA\n",
      "Sample 41: Predicted Class - drugA\n",
      "Sample 42: Predicted Class - drugA\n",
      "Sample 43: Predicted Class - drugA\n",
      "Sample 44: Predicted Class - drugA\n",
      "Sample 45: Predicted Class - drugA\n",
      "Sample 46: Predicted Class - drugA\n",
      "Sample 47: Predicted Class - drugA\n",
      "Sample 48: Predicted Class - drugA\n",
      "Sample 49: Predicted Class - drugA\n",
      "Sample 50: Predicted Class - drugA\n",
      "Sample 51: Predicted Class - drugA\n",
      "Sample 52: Predicted Class - drugA\n",
      "Sample 53: Predicted Class - drugA\n",
      "Sample 54: Predicted Class - drugA\n",
      "Sample 55: Predicted Class - drugA\n",
      "Sample 56: Predicted Class - drugA\n",
      "Sample 57: Predicted Class - drugA\n",
      "Sample 58: Predicted Class - drugA\n",
      "Sample 59: Predicted Class - drugA\n",
      "Sample 60: Predicted Class - drugA\n"
     ]
    }
   ],
   "source": [
    "# Make predictions on the test data\n",
    "d = pd.DataFrame('Age':23, 'Sex':'F', 'BP':'normal', 'Cholesterol':'normal', 'Na_to_K':23)\n",
    "predictions_prob = model.predict(x_test)\n",
    "\n",
    "# Get the class with the highest probability for each sample\n",
    "predicted_classes = predictions_prob.argmax(axis=1)\n",
    "\n",
    "# Define class labels\n",
    "class_labels = ['drugA', 'drugB', 'drugC', 'drugX', 'drugY']  # Replace with your actual class labels\n",
    "\n",
    "# Print the predictions\n",
    "print(\"Predictions:\")\n",
    "for i, predicted_class in enumerate(predicted_classes):\n",
    "    print(f\"Sample {i + 1}: Predicted Class - {class_labels[predicted_class]}\")\n"
   ]
  }
 ],
 "metadata": {
  "kernelspec": {
   "display_name": "Python 3",
   "language": "python",
   "name": "python3"
  },
  "language_info": {
   "codemirror_mode": {
    "name": "ipython",
    "version": 3
   },
   "file_extension": ".py",
   "mimetype": "text/x-python",
   "name": "python",
   "nbconvert_exporter": "python",
   "pygments_lexer": "ipython3",
   "version": "3.10.0"
  }
 },
 "nbformat": 4,
 "nbformat_minor": 2
}
